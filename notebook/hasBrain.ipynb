{
 "cells": [
  {
   "cell_type": "code",
   "execution_count": 35,
   "metadata": {},
   "outputs": [],
   "source": [
    "import numpy as np\n",
    "import pandas as pd\n",
    "from shutil import copyfile"
   ]
  },
  {
   "cell_type": "code",
   "execution_count": null,
   "metadata": {},
   "outputs": [],
   "source": []
  },
  {
   "cell_type": "code",
   "execution_count": 5,
   "metadata": {},
   "outputs": [],
   "source": [
    "df = pd.read_json('data/validation.json')"
   ]
  },
  {
   "cell_type": "code",
   "execution_count": 6,
   "metadata": {},
   "outputs": [],
   "source": [
    "df = df.reset_index()"
   ]
  },
  {
   "cell_type": "code",
   "execution_count": 7,
   "metadata": {},
   "outputs": [
    {
     "data": {
      "text/plain": [
       "(4111, 2)"
      ]
     },
     "execution_count": 7,
     "metadata": {},
     "output_type": "execute_result"
    }
   ],
   "source": [
    "df.shape"
   ]
  },
  {
   "cell_type": "code",
   "execution_count": 8,
   "metadata": {},
   "outputs": [],
   "source": [
    "df.columns = [\"url\",\"status\"]"
   ]
  },
  {
   "cell_type": "code",
   "execution_count": 9,
   "metadata": {},
   "outputs": [
    {
     "data": {
      "text/html": [
       "<div>\n",
       "<style scoped>\n",
       "    .dataframe tbody tr th:only-of-type {\n",
       "        vertical-align: middle;\n",
       "    }\n",
       "\n",
       "    .dataframe tbody tr th {\n",
       "        vertical-align: top;\n",
       "    }\n",
       "\n",
       "    .dataframe thead th {\n",
       "        text-align: right;\n",
       "    }\n",
       "</style>\n",
       "<table border=\"1\" class=\"dataframe\">\n",
       "  <thead>\n",
       "    <tr style=\"text-align: right;\">\n",
       "      <th></th>\n",
       "      <th>url</th>\n",
       "      <th>status</th>\n",
       "    </tr>\n",
       "  </thead>\n",
       "  <tbody>\n",
       "    <tr>\n",
       "      <th>0</th>\n",
       "      <td>carousel_0117c0a4-d8af-472a-8425-d4f5ae6f7589</td>\n",
       "      <td>0</td>\n",
       "    </tr>\n",
       "    <tr>\n",
       "      <th>1</th>\n",
       "      <td>carousel_02ddfd4a-ea39-46bf-9c12-7046606bd448</td>\n",
       "      <td>0</td>\n",
       "    </tr>\n",
       "    <tr>\n",
       "      <th>2</th>\n",
       "      <td>carousel_07b0e6c3-dbe3-46c9-8cd6-54dae7c94944</td>\n",
       "      <td>-1</td>\n",
       "    </tr>\n",
       "    <tr>\n",
       "      <th>3</th>\n",
       "      <td>carousel_0a6c1821-ae96-42bf-b90f-e0b1140c3d96</td>\n",
       "      <td>-1</td>\n",
       "    </tr>\n",
       "    <tr>\n",
       "      <th>4</th>\n",
       "      <td>carousel_0a7dbcda-c0f5-467c-b412-c10d768149bf</td>\n",
       "      <td>0</td>\n",
       "    </tr>\n",
       "  </tbody>\n",
       "</table>\n",
       "</div>"
      ],
      "text/plain": [
       "                                             url  status\n",
       "0  carousel_0117c0a4-d8af-472a-8425-d4f5ae6f7589       0\n",
       "1  carousel_02ddfd4a-ea39-46bf-9c12-7046606bd448       0\n",
       "2  carousel_07b0e6c3-dbe3-46c9-8cd6-54dae7c94944      -1\n",
       "3  carousel_0a6c1821-ae96-42bf-b90f-e0b1140c3d96      -1\n",
       "4  carousel_0a7dbcda-c0f5-467c-b412-c10d768149bf       0"
      ]
     },
     "execution_count": 9,
     "metadata": {},
     "output_type": "execute_result"
    }
   ],
   "source": [
    "df.head()"
   ]
  },
  {
   "cell_type": "code",
   "execution_count": 14,
   "metadata": {},
   "outputs": [],
   "source": [
    "df[\"label\"] = df[\"url\"].apply(lambda x: \"_\".join(x.split(\"_\")[:-1]))\n",
    "df = df.sort_values(by=[\"label\",\"status\"])\n",
    "df = df.reset_index(drop=True)"
   ]
  },
  {
   "cell_type": "code",
   "execution_count": 15,
   "metadata": {},
   "outputs": [
    {
     "data": {
      "text/html": [
       "<div>\n",
       "<style scoped>\n",
       "    .dataframe tbody tr th:only-of-type {\n",
       "        vertical-align: middle;\n",
       "    }\n",
       "\n",
       "    .dataframe tbody tr th {\n",
       "        vertical-align: top;\n",
       "    }\n",
       "\n",
       "    .dataframe thead th {\n",
       "        text-align: right;\n",
       "    }\n",
       "</style>\n",
       "<table border=\"1\" class=\"dataframe\">\n",
       "  <thead>\n",
       "    <tr style=\"text-align: right;\">\n",
       "      <th></th>\n",
       "      <th>url</th>\n",
       "      <th>status</th>\n",
       "      <th>label</th>\n",
       "    </tr>\n",
       "  </thead>\n",
       "  <tbody>\n",
       "    <tr>\n",
       "      <th>0</th>\n",
       "      <td>carousel_a6f0e344-5326-42e7-9566-81751f695672</td>\n",
       "      <td>-1</td>\n",
       "      <td>carousel</td>\n",
       "    </tr>\n",
       "    <tr>\n",
       "      <th>1</th>\n",
       "      <td>carousel_a76449ae-106e-49b9-9de8-97e1773802f2</td>\n",
       "      <td>-1</td>\n",
       "      <td>carousel</td>\n",
       "    </tr>\n",
       "    <tr>\n",
       "      <th>2</th>\n",
       "      <td>carousel_a8466cd4-dc61-40e3-8c1d-6a34f8fa01bb</td>\n",
       "      <td>-1</td>\n",
       "      <td>carousel</td>\n",
       "    </tr>\n",
       "    <tr>\n",
       "      <th>3</th>\n",
       "      <td>carousel_abe68132-b81d-40a1-922d-a3eb0d4ec611</td>\n",
       "      <td>-1</td>\n",
       "      <td>carousel</td>\n",
       "    </tr>\n",
       "    <tr>\n",
       "      <th>4</th>\n",
       "      <td>carousel_ac178410-088b-45bc-aab2-0f59a9955ee3</td>\n",
       "      <td>-1</td>\n",
       "      <td>carousel</td>\n",
       "    </tr>\n",
       "    <tr>\n",
       "      <th>5</th>\n",
       "      <td>carousel_ac52cb5a-7ab4-484e-9661-a45db8e1049c</td>\n",
       "      <td>-1</td>\n",
       "      <td>carousel</td>\n",
       "    </tr>\n",
       "    <tr>\n",
       "      <th>6</th>\n",
       "      <td>carousel_ac7dacf3-42b3-4c0a-912f-f4291474d109</td>\n",
       "      <td>-1</td>\n",
       "      <td>carousel</td>\n",
       "    </tr>\n",
       "    <tr>\n",
       "      <th>7</th>\n",
       "      <td>carousel_ae06154b-fcb6-409e-a1d9-c980a577ce43</td>\n",
       "      <td>-1</td>\n",
       "      <td>carousel</td>\n",
       "    </tr>\n",
       "    <tr>\n",
       "      <th>8</th>\n",
       "      <td>carousel_aebfbb03-3f30-4719-9b16-1c1c64ec437a</td>\n",
       "      <td>-1</td>\n",
       "      <td>carousel</td>\n",
       "    </tr>\n",
       "    <tr>\n",
       "      <th>9</th>\n",
       "      <td>carousel_af28e516-af43-44e4-9c3e-e8dc75e65877</td>\n",
       "      <td>-1</td>\n",
       "      <td>carousel</td>\n",
       "    </tr>\n",
       "    <tr>\n",
       "      <th>10</th>\n",
       "      <td>carousel_b0f36ed2-e184-44d8-a027-71a77b8a550c</td>\n",
       "      <td>-1</td>\n",
       "      <td>carousel</td>\n",
       "    </tr>\n",
       "    <tr>\n",
       "      <th>11</th>\n",
       "      <td>carousel_b32ba5a6-e83d-4dfd-b935-ad51cc4dcada</td>\n",
       "      <td>-1</td>\n",
       "      <td>carousel</td>\n",
       "    </tr>\n",
       "    <tr>\n",
       "      <th>12</th>\n",
       "      <td>carousel_b6c4388c-d336-4cae-b5be-e83ffcfa540d</td>\n",
       "      <td>-1</td>\n",
       "      <td>carousel</td>\n",
       "    </tr>\n",
       "    <tr>\n",
       "      <th>13</th>\n",
       "      <td>carousel_b7fa9679-12b2-4dcd-9110-cd84ea77530a</td>\n",
       "      <td>-1</td>\n",
       "      <td>carousel</td>\n",
       "    </tr>\n",
       "    <tr>\n",
       "      <th>14</th>\n",
       "      <td>carousel_bb114226-e9d3-44d4-bbc7-53690e41e541</td>\n",
       "      <td>-1</td>\n",
       "      <td>carousel</td>\n",
       "    </tr>\n",
       "    <tr>\n",
       "      <th>15</th>\n",
       "      <td>carousel_bfc0e90a-e39e-44f4-bc19-c052bf33e94d</td>\n",
       "      <td>-1</td>\n",
       "      <td>carousel</td>\n",
       "    </tr>\n",
       "    <tr>\n",
       "      <th>16</th>\n",
       "      <td>carousel_c05f8c18-f81e-47e5-a606-e34eb75ed4f7</td>\n",
       "      <td>-1</td>\n",
       "      <td>carousel</td>\n",
       "    </tr>\n",
       "    <tr>\n",
       "      <th>17</th>\n",
       "      <td>carousel_c2933da3-cbc3-4fc0-b8a7-ed859dcec2d1</td>\n",
       "      <td>-1</td>\n",
       "      <td>carousel</td>\n",
       "    </tr>\n",
       "    <tr>\n",
       "      <th>18</th>\n",
       "      <td>carousel_a4ee58b6-29d4-489d-8ebe-3a3ab9f7f799</td>\n",
       "      <td>-1</td>\n",
       "      <td>carousel</td>\n",
       "    </tr>\n",
       "    <tr>\n",
       "      <th>19</th>\n",
       "      <td>carousel_a4a4463b-e8ab-413d-8e48-773ea13e8740</td>\n",
       "      <td>-1</td>\n",
       "      <td>carousel</td>\n",
       "    </tr>\n",
       "  </tbody>\n",
       "</table>\n",
       "</div>"
      ],
      "text/plain": [
       "                                              url  status     label\n",
       "0   carousel_a6f0e344-5326-42e7-9566-81751f695672      -1  carousel\n",
       "1   carousel_a76449ae-106e-49b9-9de8-97e1773802f2      -1  carousel\n",
       "2   carousel_a8466cd4-dc61-40e3-8c1d-6a34f8fa01bb      -1  carousel\n",
       "3   carousel_abe68132-b81d-40a1-922d-a3eb0d4ec611      -1  carousel\n",
       "4   carousel_ac178410-088b-45bc-aab2-0f59a9955ee3      -1  carousel\n",
       "5   carousel_ac52cb5a-7ab4-484e-9661-a45db8e1049c      -1  carousel\n",
       "6   carousel_ac7dacf3-42b3-4c0a-912f-f4291474d109      -1  carousel\n",
       "7   carousel_ae06154b-fcb6-409e-a1d9-c980a577ce43      -1  carousel\n",
       "8   carousel_aebfbb03-3f30-4719-9b16-1c1c64ec437a      -1  carousel\n",
       "9   carousel_af28e516-af43-44e4-9c3e-e8dc75e65877      -1  carousel\n",
       "10  carousel_b0f36ed2-e184-44d8-a027-71a77b8a550c      -1  carousel\n",
       "11  carousel_b32ba5a6-e83d-4dfd-b935-ad51cc4dcada      -1  carousel\n",
       "12  carousel_b6c4388c-d336-4cae-b5be-e83ffcfa540d      -1  carousel\n",
       "13  carousel_b7fa9679-12b2-4dcd-9110-cd84ea77530a      -1  carousel\n",
       "14  carousel_bb114226-e9d3-44d4-bbc7-53690e41e541      -1  carousel\n",
       "15  carousel_bfc0e90a-e39e-44f4-bc19-c052bf33e94d      -1  carousel\n",
       "16  carousel_c05f8c18-f81e-47e5-a606-e34eb75ed4f7      -1  carousel\n",
       "17  carousel_c2933da3-cbc3-4fc0-b8a7-ed859dcec2d1      -1  carousel\n",
       "18  carousel_a4ee58b6-29d4-489d-8ebe-3a3ab9f7f799      -1  carousel\n",
       "19  carousel_a4a4463b-e8ab-413d-8e48-773ea13e8740      -1  carousel"
      ]
     },
     "execution_count": 15,
     "metadata": {},
     "output_type": "execute_result"
    }
   ],
   "source": [
    "df.head(20)"
   ]
  },
  {
   "cell_type": "code",
   "execution_count": 16,
   "metadata": {},
   "outputs": [
    {
     "data": {
      "text/html": [
       "<div>\n",
       "<style scoped>\n",
       "    .dataframe tbody tr th:only-of-type {\n",
       "        vertical-align: middle;\n",
       "    }\n",
       "\n",
       "    .dataframe tbody tr th {\n",
       "        vertical-align: top;\n",
       "    }\n",
       "\n",
       "    .dataframe thead tr th {\n",
       "        text-align: left;\n",
       "    }\n",
       "\n",
       "    .dataframe thead tr:last-of-type th {\n",
       "        text-align: right;\n",
       "    }\n",
       "</style>\n",
       "<table border=\"1\" class=\"dataframe\">\n",
       "  <thead>\n",
       "    <tr>\n",
       "      <th></th>\n",
       "      <th>url</th>\n",
       "      <th>status</th>\n",
       "    </tr>\n",
       "    <tr>\n",
       "      <th></th>\n",
       "      <th>count</th>\n",
       "      <th>count</th>\n",
       "    </tr>\n",
       "    <tr>\n",
       "      <th>label</th>\n",
       "      <th></th>\n",
       "      <th></th>\n",
       "    </tr>\n",
       "  </thead>\n",
       "  <tbody>\n",
       "    <tr>\n",
       "      <th>carousel</th>\n",
       "      <td>269</td>\n",
       "      <td>269</td>\n",
       "    </tr>\n",
       "    <tr>\n",
       "      <th>description</th>\n",
       "      <td>288</td>\n",
       "      <td>288</td>\n",
       "    </tr>\n",
       "    <tr>\n",
       "      <th>episode</th>\n",
       "      <td>317</td>\n",
       "      <td>317</td>\n",
       "    </tr>\n",
       "    <tr>\n",
       "      <th>full_screen_video_player</th>\n",
       "      <td>279</td>\n",
       "      <td>279</td>\n",
       "    </tr>\n",
       "    <tr>\n",
       "      <th>grid_view</th>\n",
       "      <td>286</td>\n",
       "      <td>286</td>\n",
       "    </tr>\n",
       "    <tr>\n",
       "      <th>header</th>\n",
       "      <td>296</td>\n",
       "      <td>296</td>\n",
       "    </tr>\n",
       "    <tr>\n",
       "      <th>home_marquee</th>\n",
       "      <td>329</td>\n",
       "      <td>329</td>\n",
       "    </tr>\n",
       "    <tr>\n",
       "      <th>onboarding</th>\n",
       "      <td>261</td>\n",
       "      <td>261</td>\n",
       "    </tr>\n",
       "    <tr>\n",
       "      <th>portrait_photograph</th>\n",
       "      <td>289</td>\n",
       "      <td>289</td>\n",
       "    </tr>\n",
       "    <tr>\n",
       "      <th>search_page</th>\n",
       "      <td>313</td>\n",
       "      <td>313</td>\n",
       "    </tr>\n",
       "    <tr>\n",
       "      <th>sidebar</th>\n",
       "      <td>303</td>\n",
       "      <td>303</td>\n",
       "    </tr>\n",
       "    <tr>\n",
       "      <th>signup</th>\n",
       "      <td>284</td>\n",
       "      <td>284</td>\n",
       "    </tr>\n",
       "    <tr>\n",
       "      <th>video_thumbnail</th>\n",
       "      <td>288</td>\n",
       "      <td>288</td>\n",
       "    </tr>\n",
       "    <tr>\n",
       "      <th>youtube</th>\n",
       "      <td>309</td>\n",
       "      <td>309</td>\n",
       "    </tr>\n",
       "  </tbody>\n",
       "</table>\n",
       "</div>"
      ],
      "text/plain": [
       "                           url status\n",
       "                         count  count\n",
       "label                                \n",
       "carousel                   269    269\n",
       "description                288    288\n",
       "episode                    317    317\n",
       "full_screen_video_player   279    279\n",
       "grid_view                  286    286\n",
       "header                     296    296\n",
       "home_marquee               329    329\n",
       "onboarding                 261    261\n",
       "portrait_photograph        289    289\n",
       "search_page                313    313\n",
       "sidebar                    303    303\n",
       "signup                     284    284\n",
       "video_thumbnail            288    288\n",
       "youtube                    309    309"
      ]
     },
     "execution_count": 16,
     "metadata": {},
     "output_type": "execute_result"
    }
   ],
   "source": [
    "df.groupby([\"label\"]).agg([\"count\"])"
   ]
  },
  {
   "cell_type": "code",
   "execution_count": 20,
   "metadata": {
    "scrolled": true
   },
   "outputs": [
    {
     "name": "stdout",
     "output_type": "stream",
     "text": [
      "1028 for each person\n"
     ]
    }
   ],
   "source": [
    "# split data thanh 4 phan de moi nguoi cung clean data\n",
    "num = round(4111/4)\n",
    "print(\"%s for each person\" % num)"
   ]
  },
  {
   "cell_type": "code",
   "execution_count": 42,
   "metadata": {
    "scrolled": true
   },
   "outputs": [
    {
     "name": "stdout",
     "output_type": "stream",
     "text": [
      "Person 1: From 0 to 1028\n",
      "1028\n",
      "Person 2: From 1028 to 2056\n",
      "1028\n",
      "No such file or directory: data/drawing/header_8c51b549-c319-44fe-bac0-0e1f9ec9bfa3.png\n",
      "No such file or directory: data/drawing/home_marquee_b0c7dcb7-9e31-4c6f-a06e-a2dcfc189412.png\n",
      "Person 3: From 2056 to 3084\n",
      "1028\n",
      "No such file or directory: data/drawing/portrait_photograph_a7911f56-bfca-41af-8dbe-41db1a5fe36c.png\n",
      "No such file or directory: data/drawing/search_page_8dc7a72c-2ac1-4bff-97dd-3fe48524d613.png\n",
      "Person 4: From 3084 to 4112\n",
      "1027\n",
      "No such file or directory: data/drawing/signup_b56cf032-5d01-4b70-8232-f99bbb566597.png\n",
      "No such file or directory: data/drawing/signup_712021d6-8485-4751-8376-915d59d6c221.png\n",
      "No such file or directory: data/drawing/youtube_1ecc319f-d2c6-40f5-8179-6b2153dcdb09.png\n",
      "No such file or directory: data/drawing/youtube_3a4cf598-bf03-4e51-a08a-a12643315d5c.png\n"
     ]
    }
   ],
   "source": [
    "i = 0\n",
    "for p in range(4):\n",
    "    to = i+num\n",
    "    print(\"Person %s: From %s to %s\"%(p+1, i, to))\n",
    "    tmp = df.iloc[i:to]\n",
    "    print(len(tmp))\n",
    "    for index, row in tmp.iterrows():\n",
    "        path = \"data/drawing/%s.png\"%row[\"url\"]\n",
    "        try:\n",
    "            copyfile(path, path.replace(\"drawing\", \"person_%s\" % p))\n",
    "        except FileNotFoundError:\n",
    "            print(\"No such file or directory: %s\"%path)\n",
    "            \n",
    "    tmp.to_csv(\"data/person_%s/validation_small.csv\"%p)\n",
    "    i = to"
   ]
  },
  {
   "cell_type": "code",
   "execution_count": null,
   "metadata": {},
   "outputs": [],
   "source": []
  },
  {
   "cell_type": "code",
   "execution_count": null,
   "metadata": {
    "scrolled": true
   },
   "outputs": [],
   "source": []
  },
  {
   "cell_type": "code",
   "execution_count": null,
   "metadata": {
    "scrolled": true
   },
   "outputs": [],
   "source": []
  }
 ],
 "metadata": {
  "kernelspec": {
   "display_name": "Python 3",
   "language": "python",
   "name": "python3"
  },
  "language_info": {
   "codemirror_mode": {
    "name": "ipython",
    "version": 3
   },
   "file_extension": ".py",
   "mimetype": "text/x-python",
   "name": "python",
   "nbconvert_exporter": "python",
   "pygments_lexer": "ipython3",
   "version": "3.7.1"
  }
 },
 "nbformat": 4,
 "nbformat_minor": 2
}
